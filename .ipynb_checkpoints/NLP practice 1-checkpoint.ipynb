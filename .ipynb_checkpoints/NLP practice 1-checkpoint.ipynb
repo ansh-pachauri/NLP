{
 "cells": [
  {
   "cell_type": "code",
   "execution_count": 1,
   "id": "80f2b715",
   "metadata": {},
   "outputs": [
    {
     "name": "stdout",
     "output_type": "stream",
     "text": [
      "Requirement already satisfied: nltk in c:\\users\\hpw\\anaconda3\\lib\\site-packages (3.8.1)\n",
      "Requirement already satisfied: click in c:\\users\\hpw\\anaconda3\\lib\\site-packages (from nltk) (8.1.7)\n",
      "Requirement already satisfied: joblib in c:\\users\\hpw\\anaconda3\\lib\\site-packages (from nltk) (1.2.0)\n",
      "Requirement already satisfied: regex>=2021.8.3 in c:\\users\\hpw\\anaconda3\\lib\\site-packages (from nltk) (2023.10.3)\n",
      "Requirement already satisfied: tqdm in c:\\users\\hpw\\anaconda3\\lib\\site-packages (from nltk) (4.65.0)\n",
      "Requirement already satisfied: colorama in c:\\users\\hpw\\anaconda3\\lib\\site-packages (from click->nltk) (0.4.6)\n",
      "Note: you may need to restart the kernel to use updated packages.\n"
     ]
    }
   ],
   "source": [
    "pip install nltk"
   ]
  },
  {
   "cell_type": "code",
   "execution_count": 2,
   "id": "8774f8ad",
   "metadata": {},
   "outputs": [],
   "source": [
    "paragraph=\"\"\"\n",
    "The Indian Space Research Organisation (ISRO /ˈɪsroʊ/)[a] is India's national space agency. It serves as the principal research and development arm of the Department of Space (DoS), overseen by the Prime Minister of India, with the Chairman of ISRO also serving as the chief executive of the DoS. It is primarily responsible for space-based operations, space exploration, international space cooperation and the development of related technologies.[3] The agency maintains a constellation of imaging, communication and remote sensing satellites. It operates the GAGAN and IRNSS satellite navigation systems. It has sent three missions to the Moon and one mission to Mars.\n",
    "\n",
    "Formerly known as the Indian National Committee for Space Research (INCOSPAR), it was set up in 1962 by then-Prime Minister Jawaharlal Nehru on the recommendation of scientist Vikram Sarabhai. It was renamed as ISRO in 1969 and was subsumed into the Department of Atomic Energy (DAE).[4] The establishment of ISRO institutionalised space research activities in India.[5][6] In 1972, the Government set up a Space Commission and the DoS, bringing ISRO under its purview. It has since then been managed by the DoS, which also governs various other institutions in the domain of astronomy and space technology.[7]\n",
    "\"\"\""
   ]
  },
  {
   "cell_type": "code",
   "execution_count": 3,
   "id": "f3cbcbe5",
   "metadata": {},
   "outputs": [
    {
     "data": {
      "text/plain": [
       "\"\\nThe Indian Space Research Organisation (ISRO /ˈɪsroʊ/)[a] is India's national space agency. It serves as the principal research and development arm of the Department of Space (DoS), overseen by the Prime Minister of India, with the Chairman of ISRO also serving as the chief executive of the DoS. It is primarily responsible for space-based operations, space exploration, international space cooperation and the development of related technologies.[3] The agency maintains a constellation of imaging, communication and remote sensing satellites. It operates the GAGAN and IRNSS satellite navigation systems. It has sent three missions to the Moon and one mission to Mars.\\n\\nFormerly known as the Indian National Committee for Space Research (INCOSPAR), it was set up in 1962 by then-Prime Minister Jawaharlal Nehru on the recommendation of scientist Vikram Sarabhai. It was renamed as ISRO in 1969 and was subsumed into the Department of Atomic Energy (DAE).[4] The establishment of ISRO institutionalised space research activities in India.[5][6] In 1972, the Government set up a Space Commission and the DoS, bringing ISRO under its purview. It has since then been managed by the DoS, which also governs various other institutions in the domain of astronomy and space technology.[7]\\n\""
      ]
     },
     "execution_count": 3,
     "metadata": {},
     "output_type": "execute_result"
    }
   ],
   "source": [
    "paragraph"
   ]
  },
  {
   "cell_type": "code",
   "execution_count": 5,
   "id": "77a7e9fc",
   "metadata": {},
   "outputs": [],
   "source": [
    "import nltk\n",
    "from nltk.stem import PorterStemmer\n",
    "from nltk.corpus import stopwords"
   ]
  },
  {
   "cell_type": "code",
   "execution_count": 6,
   "id": "cee4bb44",
   "metadata": {},
   "outputs": [
    {
     "name": "stderr",
     "output_type": "stream",
     "text": [
      "[nltk_data] Downloading package punkt to\n",
      "[nltk_data]     C:\\Users\\hpw\\AppData\\Roaming\\nltk_data...\n",
      "[nltk_data]   Unzipping tokenizers\\punkt.zip.\n"
     ]
    }
   ],
   "source": [
    "#tokenization- convert para in to words\n",
    "nltk.download('punkt')\n",
    "sentences = nltk.sent_tokenize(paragraph)"
   ]
  },
  {
   "cell_type": "code",
   "execution_count": 7,
   "id": "87459830",
   "metadata": {},
   "outputs": [
    {
     "name": "stdout",
     "output_type": "stream",
     "text": [
      "[\"\\nThe Indian Space Research Organisation (ISRO /ˈɪsroʊ/)[a] is India's national space agency.\", 'It serves as the principal research and development arm of the Department of Space (DoS), overseen by the Prime Minister of India, with the Chairman of ISRO also serving as the chief executive of the DoS.', 'It is primarily responsible for space-based operations, space exploration, international space cooperation and the development of related technologies.', '[3] The agency maintains a constellation of imaging, communication and remote sensing satellites.', 'It operates the GAGAN and IRNSS satellite navigation systems.', 'It has sent three missions to the Moon and one mission to Mars.', 'Formerly known as the Indian National Committee for Space Research (INCOSPAR), it was set up in 1962 by then-Prime Minister Jawaharlal Nehru on the recommendation of scientist Vikram Sarabhai.', 'It was renamed as ISRO in 1969 and was subsumed into the Department of Atomic Energy (DAE).', '[4] The establishment of ISRO institutionalised space research activities in India.', '[5][6] In 1972, the Government set up a Space Commission and the DoS, bringing ISRO under its purview.', 'It has since then been managed by the DoS, which also governs various other institutions in the domain of astronomy and space technology.', '[7]']\n"
     ]
    }
   ],
   "source": [
    "print(sentences)"
   ]
  },
  {
   "cell_type": "code",
   "execution_count": 8,
   "id": "4ce7c47b",
   "metadata": {},
   "outputs": [],
   "source": [
    "stemmer = PorterStemmer()"
   ]
  },
  {
   "cell_type": "code",
   "execution_count": 9,
   "id": "7a6f4ad0",
   "metadata": {},
   "outputs": [
    {
     "data": {
      "text/plain": [
       "'astronomy '"
      ]
     },
     "execution_count": 9,
     "metadata": {},
     "output_type": "execute_result"
    }
   ],
   "source": [
    "stemmer.stem(\"astronomy \")"
   ]
  },
  {
   "cell_type": "code",
   "execution_count": 10,
   "id": "49b149b1",
   "metadata": {},
   "outputs": [],
   "source": [
    "from nltk.stem import WordNetLemmatizer"
   ]
  },
  {
   "cell_type": "code",
   "execution_count": 11,
   "id": "b69b667e",
   "metadata": {},
   "outputs": [],
   "source": [
    "lemmatizer = WordNetLemmatizer()"
   ]
  },
  {
   "cell_type": "code",
   "execution_count": 14,
   "id": "e110ed02",
   "metadata": {},
   "outputs": [
    {
     "name": "stderr",
     "output_type": "stream",
     "text": [
      "[nltk_data] Downloading package wordnet to\n",
      "[nltk_data]     C:\\Users\\hpw\\AppData\\Roaming\\nltk_data...\n"
     ]
    },
    {
     "data": {
      "text/plain": [
       "True"
      ]
     },
     "execution_count": 14,
     "metadata": {},
     "output_type": "execute_result"
    }
   ],
   "source": [
    "nltk.download('wordnet')\n"
   ]
  },
  {
   "cell_type": "code",
   "execution_count": 15,
   "id": "62e99d3c",
   "metadata": {},
   "outputs": [
    {
     "data": {
      "text/plain": [
       "'institution'"
      ]
     },
     "execution_count": 15,
     "metadata": {},
     "output_type": "execute_result"
    }
   ],
   "source": [
    "lemmatizer.lemmatize(\"institutions\")"
   ]
  },
  {
   "cell_type": "code",
   "execution_count": 17,
   "id": "1df55e7c",
   "metadata": {},
   "outputs": [],
   "source": [
    "import re"
   ]
  },
  {
   "cell_type": "code",
   "execution_count": 18,
   "id": "8d0b503e",
   "metadata": {},
   "outputs": [],
   "source": [
    "corpus = []\n",
    "for i in range(len(sentences)):\n",
    "    review = re.sub('[^a-zA-Z]', \" \", sentences[i])\n",
    "    review = review.lower()\n",
    "    corpus.append(review)"
   ]
  },
  {
   "cell_type": "code",
   "execution_count": 20,
   "id": "1dfe8da7",
   "metadata": {},
   "outputs": [
    {
     "data": {
      "text/plain": [
       "[' the indian space research organisation  isro    sro    a  is india s national space agency ',\n",
       " 'it serves as the principal research and development arm of the department of space  dos   overseen by the prime minister of india  with the chairman of isro also serving as the chief executive of the dos ',\n",
       " 'it is primarily responsible for space based operations  space exploration  international space cooperation and the development of related technologies ',\n",
       " '    the agency maintains a constellation of imaging  communication and remote sensing satellites ',\n",
       " 'it operates the gagan and irnss satellite navigation systems ',\n",
       " 'it has sent three missions to the moon and one mission to mars ',\n",
       " 'formerly known as the indian national committee for space research  incospar   it was set up in      by then prime minister jawaharlal nehru on the recommendation of scientist vikram sarabhai ',\n",
       " 'it was renamed as isro in      and was subsumed into the department of atomic energy  dae  ',\n",
       " '    the establishment of isro institutionalised space research activities in india ',\n",
       " '       in       the government set up a space commission and the dos  bringing isro under its purview ',\n",
       " 'it has since then been managed by the dos  which also governs various other institutions in the domain of astronomy and space technology ',\n",
       " '   ']"
      ]
     },
     "execution_count": 20,
     "metadata": {},
     "output_type": "execute_result"
    }
   ],
   "source": [
    "corpus"
   ]
  },
  {
   "cell_type": "code",
   "execution_count": 21,
   "id": "a67ef297",
   "metadata": {},
   "outputs": [
    {
     "name": "stdout",
     "output_type": "stream",
     "text": [
      "indian\n",
      "space\n",
      "research\n",
      "organis\n",
      "isro\n",
      "sro\n",
      "india\n",
      "nation\n",
      "space\n",
      "agenc\n",
      "serv\n",
      "princip\n",
      "research\n",
      "develop\n",
      "arm\n",
      "depart\n",
      "space\n",
      "do\n",
      "overseen\n",
      "prime\n",
      "minist\n",
      "india\n",
      "chairman\n",
      "isro\n",
      "also\n",
      "serv\n",
      "chief\n",
      "execut\n",
      "do\n",
      "primarili\n",
      "respons\n",
      "space\n",
      "base\n",
      "oper\n",
      "space\n",
      "explor\n",
      "intern\n",
      "space\n",
      "cooper\n",
      "develop\n",
      "relat\n",
      "technolog\n",
      "agenc\n",
      "maintain\n",
      "constel\n",
      "imag\n",
      "commun\n",
      "remot\n",
      "sens\n",
      "satellit\n",
      "oper\n",
      "gagan\n",
      "irnss\n",
      "satellit\n",
      "navig\n",
      "system\n",
      "sent\n",
      "three\n",
      "mission\n",
      "moon\n",
      "one\n",
      "mission\n",
      "mar\n",
      "formerli\n",
      "known\n",
      "indian\n",
      "nation\n",
      "committe\n",
      "space\n",
      "research\n",
      "incospar\n",
      "set\n",
      "prime\n",
      "minist\n",
      "jawaharl\n",
      "nehru\n",
      "recommend\n",
      "scientist\n",
      "vikram\n",
      "sarabhai\n",
      "renam\n",
      "isro\n",
      "subsum\n",
      "depart\n",
      "atom\n",
      "energi\n",
      "dae\n",
      "establish\n",
      "isro\n",
      "institutionalis\n",
      "space\n",
      "research\n",
      "activ\n",
      "india\n",
      "govern\n",
      "set\n",
      "space\n",
      "commiss\n",
      "do\n",
      "bring\n",
      "isro\n",
      "purview\n",
      "sinc\n",
      "manag\n",
      "do\n",
      "also\n",
      "govern\n",
      "variou\n",
      "institut\n",
      "domain\n",
      "astronomi\n",
      "space\n",
      "technolog\n"
     ]
    }
   ],
   "source": [
    "# stemming\n",
    "for i in corpus:\n",
    "    words = nltk.word_tokenize(i)\n",
    "    for word in words:\n",
    "        if word not in set(stopwords.words('english')):\n",
    "            print(stemmer.stem(word))\n"
   ]
  },
  {
   "cell_type": "code",
   "execution_count": 22,
   "id": "cbb80f30",
   "metadata": {},
   "outputs": [
    {
     "ename": "AttributeError",
     "evalue": "'PorterStemmer' object has no attribute 'lemmatize'",
     "output_type": "error",
     "traceback": [
      "\u001b[1;31m---------------------------------------------------------------------------\u001b[0m",
      "\u001b[1;31mAttributeError\u001b[0m                            Traceback (most recent call last)",
      "Cell \u001b[1;32mIn[22], line 6\u001b[0m\n\u001b[0;32m      4\u001b[0m \u001b[38;5;28;01mfor\u001b[39;00m word \u001b[38;5;129;01min\u001b[39;00m words:\n\u001b[0;32m      5\u001b[0m     \u001b[38;5;28;01mif\u001b[39;00m word \u001b[38;5;129;01mnot\u001b[39;00m \u001b[38;5;129;01min\u001b[39;00m \u001b[38;5;28mset\u001b[39m(stopwords\u001b[38;5;241m.\u001b[39mwords(\u001b[38;5;124m'\u001b[39m\u001b[38;5;124menglish\u001b[39m\u001b[38;5;124m'\u001b[39m)):\n\u001b[1;32m----> 6\u001b[0m         \u001b[38;5;28mprint\u001b[39m(stemmer\u001b[38;5;241m.\u001b[39mlemmatize(word))\n",
      "\u001b[1;31mAttributeError\u001b[0m: 'PorterStemmer' object has no attribute 'lemmatize'"
     ]
    }
   ],
   "source": [
    "# lemmitizing\n",
    "for i in corpus:\n",
    "    words = nltk.word_tokenize(i)\n",
    "    for word in words:\n",
    "        if word not in set(stopwords.words('english')):\n",
    "            print(lemmatizer.lemmatize(word))\n"
   ]
  },
  {
   "cell_type": "code",
   "execution_count": null,
   "id": "03491fb6",
   "metadata": {},
   "outputs": [],
   "source": []
  }
 ],
 "metadata": {
  "kernelspec": {
   "display_name": "Python 3 (ipykernel)",
   "language": "python",
   "name": "python3"
  },
  "language_info": {
   "codemirror_mode": {
    "name": "ipython",
    "version": 3
   },
   "file_extension": ".py",
   "mimetype": "text/x-python",
   "name": "python",
   "nbconvert_exporter": "python",
   "pygments_lexer": "ipython3",
   "version": "3.11.7"
  }
 },
 "nbformat": 4,
 "nbformat_minor": 5
}
