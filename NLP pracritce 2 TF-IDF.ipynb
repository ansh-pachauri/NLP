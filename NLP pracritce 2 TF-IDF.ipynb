{
 "cells": [
  {
   "cell_type": "code",
   "execution_count": 1,
   "id": "351c8025",
   "metadata": {},
   "outputs": [
    {
     "name": "stdout",
     "output_type": "stream",
     "text": [
      "Requirement already satisfied: nltk in c:\\users\\hpw\\anaconda3\\lib\\site-packages (3.8.1)\n",
      "Requirement already satisfied: click in c:\\users\\hpw\\anaconda3\\lib\\site-packages (from nltk) (8.1.7)\n",
      "Requirement already satisfied: joblib in c:\\users\\hpw\\anaconda3\\lib\\site-packages (from nltk) (1.2.0)\n",
      "Requirement already satisfied: regex>=2021.8.3 in c:\\users\\hpw\\anaconda3\\lib\\site-packages (from nltk) (2023.10.3)\n",
      "Requirement already satisfied: tqdm in c:\\users\\hpw\\anaconda3\\lib\\site-packages (from nltk) (4.65.0)\n",
      "Requirement already satisfied: colorama in c:\\users\\hpw\\anaconda3\\lib\\site-packages (from click->nltk) (0.4.6)\n",
      "Note: you may need to restart the kernel to use updated packages.\n"
     ]
    }
   ],
   "source": [
    "pip install nltk"
   ]
  },
  {
   "cell_type": "code",
   "execution_count": 2,
   "id": "68da5717",
   "metadata": {},
   "outputs": [],
   "source": [
    "paragraph=\"\"\"\n",
    "The Indian Space Research Organisation (ISRO /ˈɪsroʊ/)[a] is India's national space agency. It serves as the principal research and development arm of the Department of Space (DoS), overseen by the Prime Minister of India, with the Chairman of ISRO also serving as the chief executive of the DoS. It is primarily responsible for space-based operations, space exploration, international space cooperation and the development of related technologies.[3] The agency maintains a constellation of imaging, communication and remote sensing satellites. It operates the GAGAN and IRNSS satellite navigation systems. It has sent three missions to the Moon and one mission to Mars.\n",
    "\n",
    "Formerly known as the Indian National Committee for Space Research (INCOSPAR), it was set up in 1962 by then-Prime Minister Jawaharlal Nehru on the recommendation of scientist Vikram Sarabhai. It was renamed as ISRO in 1969 and was subsumed into the Department of Atomic Energy (DAE).[4] The establishment of ISRO institutionalised space research activities in India.[5][6] In 1972, the Government set up a Space Commission and the DoS, bringing ISRO under its purview. It has since then been managed by the DoS, which also governs various other institutions in the domain of astronomy and space technology.[7]\n",
    "\"\"\""
   ]
  },
  {
   "cell_type": "code",
   "execution_count": 3,
   "id": "d0e516d2",
   "metadata": {},
   "outputs": [
    {
     "data": {
      "text/plain": [
       "\"\\nThe Indian Space Research Organisation (ISRO /ˈɪsroʊ/)[a] is India's national space agency. It serves as the principal research and development arm of the Department of Space (DoS), overseen by the Prime Minister of India, with the Chairman of ISRO also serving as the chief executive of the DoS. It is primarily responsible for space-based operations, space exploration, international space cooperation and the development of related technologies.[3] The agency maintains a constellation of imaging, communication and remote sensing satellites. It operates the GAGAN and IRNSS satellite navigation systems. It has sent three missions to the Moon and one mission to Mars.\\n\\nFormerly known as the Indian National Committee for Space Research (INCOSPAR), it was set up in 1962 by then-Prime Minister Jawaharlal Nehru on the recommendation of scientist Vikram Sarabhai. It was renamed as ISRO in 1969 and was subsumed into the Department of Atomic Energy (DAE).[4] The establishment of ISRO institutionalised space research activities in India.[5][6] In 1972, the Government set up a Space Commission and the DoS, bringing ISRO under its purview. It has since then been managed by the DoS, which also governs various other institutions in the domain of astronomy and space technology.[7]\\n\""
      ]
     },
     "execution_count": 3,
     "metadata": {},
     "output_type": "execute_result"
    }
   ],
   "source": [
    "paragraph"
   ]
  },
  {
   "cell_type": "code",
   "execution_count": 4,
   "id": "272f1556",
   "metadata": {},
   "outputs": [],
   "source": [
    "import nltk\n",
    "from nltk.stem import PorterStemmer\n",
    "from nltk.corpus import stopwords"
   ]
  },
  {
   "cell_type": "code",
   "execution_count": 5,
   "id": "6b732e80",
   "metadata": {},
   "outputs": [
    {
     "name": "stderr",
     "output_type": "stream",
     "text": [
      "[nltk_data] Downloading package punkt to\n",
      "[nltk_data]     C:\\Users\\hpw\\AppData\\Roaming\\nltk_data...\n",
      "[nltk_data]   Package punkt is already up-to-date!\n",
      "[nltk_data] Downloading package wordnet to\n",
      "[nltk_data]     C:\\Users\\hpw\\AppData\\Roaming\\nltk_data...\n",
      "[nltk_data]   Package wordnet is already up-to-date!\n"
     ]
    },
    {
     "data": {
      "text/plain": [
       "True"
      ]
     },
     "execution_count": 5,
     "metadata": {},
     "output_type": "execute_result"
    }
   ],
   "source": [
    "# converting paragraph in to words by tokenize it\n",
    "nltk.download('punkt')\n",
    "nltk.download('wordnet')"
   ]
  },
  {
   "cell_type": "code",
   "execution_count": 6,
   "id": "3a878a9d",
   "metadata": {},
   "outputs": [],
   "source": [
    "sentences = nltk.sent_tokenize(paragraph)"
   ]
  },
  {
   "cell_type": "code",
   "execution_count": 7,
   "id": "7cf7ee4a",
   "metadata": {},
   "outputs": [
    {
     "name": "stdout",
     "output_type": "stream",
     "text": [
      "[\"\\nThe Indian Space Research Organisation (ISRO /ˈɪsroʊ/)[a] is India's national space agency.\", 'It serves as the principal research and development arm of the Department of Space (DoS), overseen by the Prime Minister of India, with the Chairman of ISRO also serving as the chief executive of the DoS.', 'It is primarily responsible for space-based operations, space exploration, international space cooperation and the development of related technologies.', '[3] The agency maintains a constellation of imaging, communication and remote sensing satellites.', 'It operates the GAGAN and IRNSS satellite navigation systems.', 'It has sent three missions to the Moon and one mission to Mars.', 'Formerly known as the Indian National Committee for Space Research (INCOSPAR), it was set up in 1962 by then-Prime Minister Jawaharlal Nehru on the recommendation of scientist Vikram Sarabhai.', 'It was renamed as ISRO in 1969 and was subsumed into the Department of Atomic Energy (DAE).', '[4] The establishment of ISRO institutionalised space research activities in India.', '[5][6] In 1972, the Government set up a Space Commission and the DoS, bringing ISRO under its purview.', 'It has since then been managed by the DoS, which also governs various other institutions in the domain of astronomy and space technology.', '[7]']\n"
     ]
    }
   ],
   "source": [
    "print(sentences)"
   ]
  },
  {
   "cell_type": "code",
   "execution_count": 8,
   "id": "7920bdbe",
   "metadata": {},
   "outputs": [],
   "source": [
    "# importing lemitizatoin\n",
    "from nltk.stem import WordNetLemmatizer\n",
    "lemmatizer = WordNetLemmatizer()"
   ]
  },
  {
   "cell_type": "code",
   "execution_count": 9,
   "id": "de97219e",
   "metadata": {},
   "outputs": [],
   "source": [
    "import re"
   ]
  },
  {
   "cell_type": "code",
   "execution_count": 10,
   "id": "0150d4cc",
   "metadata": {},
   "outputs": [],
   "source": [
    "corpus = []\n",
    "for i in range(len(sentences)):\n",
    "    review = re.sub('[^a-zA-Z]', \" \", sentences[i])\n",
    "    review = review.lower()\n",
    "    corpus.append(review)"
   ]
  },
  {
   "cell_type": "code",
   "execution_count": 11,
   "id": "263e42d6",
   "metadata": {},
   "outputs": [
    {
     "data": {
      "text/plain": [
       "[' the indian space research organisation  isro    sro    a  is india s national space agency ',\n",
       " 'it serves as the principal research and development arm of the department of space  dos   overseen by the prime minister of india  with the chairman of isro also serving as the chief executive of the dos ',\n",
       " 'it is primarily responsible for space based operations  space exploration  international space cooperation and the development of related technologies ',\n",
       " '    the agency maintains a constellation of imaging  communication and remote sensing satellites ',\n",
       " 'it operates the gagan and irnss satellite navigation systems ',\n",
       " 'it has sent three missions to the moon and one mission to mars ',\n",
       " 'formerly known as the indian national committee for space research  incospar   it was set up in      by then prime minister jawaharlal nehru on the recommendation of scientist vikram sarabhai ',\n",
       " 'it was renamed as isro in      and was subsumed into the department of atomic energy  dae  ',\n",
       " '    the establishment of isro institutionalised space research activities in india ',\n",
       " '       in       the government set up a space commission and the dos  bringing isro under its purview ',\n",
       " 'it has since then been managed by the dos  which also governs various other institutions in the domain of astronomy and space technology ',\n",
       " '   ']"
      ]
     },
     "execution_count": 11,
     "metadata": {},
     "output_type": "execute_result"
    }
   ],
   "source": [
    "corpus"
   ]
  },
  {
   "cell_type": "code",
   "execution_count": 12,
   "id": "c559edae",
   "metadata": {},
   "outputs": [
    {
     "name": "stderr",
     "output_type": "stream",
     "text": [
      "[nltk_data] Downloading package stopwords to\n",
      "[nltk_data]     C:\\Users\\hpw\\AppData\\Roaming\\nltk_data...\n",
      "[nltk_data]   Package stopwords is already up-to-date!\n"
     ]
    },
    {
     "data": {
      "text/plain": [
       "True"
      ]
     },
     "execution_count": 12,
     "metadata": {},
     "output_type": "execute_result"
    }
   ],
   "source": [
    "nltk.download('stopwords')"
   ]
  },
  {
   "cell_type": "code",
   "execution_count": 13,
   "id": "12d11a3b",
   "metadata": {},
   "outputs": [
    {
     "name": "stdout",
     "output_type": "stream",
     "text": [
      "indian\n",
      "space\n",
      "research\n",
      "organisation\n",
      "isro\n",
      "sro\n",
      "india\n",
      "national\n",
      "space\n",
      "agency\n",
      "serf\n",
      "principal\n",
      "research\n",
      "development\n",
      "arm\n",
      "department\n",
      "space\n",
      "do\n",
      "overseen\n",
      "prime\n",
      "minister\n",
      "india\n",
      "chairman\n",
      "isro\n",
      "also\n",
      "serving\n",
      "chief\n",
      "executive\n",
      "do\n",
      "primarily\n",
      "responsible\n",
      "space\n",
      "based\n",
      "operation\n",
      "space\n",
      "exploration\n",
      "international\n",
      "space\n",
      "cooperation\n",
      "development\n",
      "related\n",
      "technology\n",
      "agency\n",
      "maintains\n",
      "constellation\n",
      "imaging\n",
      "communication\n",
      "remote\n",
      "sensing\n",
      "satellite\n",
      "operates\n",
      "gagan\n",
      "irnss\n",
      "satellite\n",
      "navigation\n",
      "system\n",
      "sent\n",
      "three\n",
      "mission\n",
      "moon\n",
      "one\n",
      "mission\n",
      "mar\n",
      "formerly\n",
      "known\n",
      "indian\n",
      "national\n",
      "committee\n",
      "space\n",
      "research\n",
      "incospar\n",
      "set\n",
      "prime\n",
      "minister\n",
      "jawaharlal\n",
      "nehru\n",
      "recommendation\n",
      "scientist\n",
      "vikram\n",
      "sarabhai\n",
      "renamed\n",
      "isro\n",
      "subsumed\n",
      "department\n",
      "atomic\n",
      "energy\n",
      "dae\n",
      "establishment\n",
      "isro\n",
      "institutionalised\n",
      "space\n",
      "research\n",
      "activity\n",
      "india\n",
      "government\n",
      "set\n",
      "space\n",
      "commission\n",
      "do\n",
      "bringing\n",
      "isro\n",
      "purview\n",
      "since\n",
      "managed\n",
      "do\n",
      "also\n",
      "governs\n",
      "various\n",
      "institution\n",
      "domain\n",
      "astronomy\n",
      "space\n",
      "technology\n"
     ]
    }
   ],
   "source": [
    "# lemitizing corpus\n",
    "\n",
    "stop_words = set(stopwords.words('english'))\n",
    "\n",
    "\n",
    "for i in corpus:\n",
    "    words = nltk.word_tokenize(i)\n",
    "    for word in words:\n",
    "        if word  not in stop_words:\n",
    "          print(lemmatizer.lemmatize(word))\n",
    "\n"
   ]
  },
  {
   "cell_type": "code",
   "execution_count": 15,
   "id": "1b3b6ff9",
   "metadata": {},
   "outputs": [],
   "source": [
    "# count vactorization\n",
    "from sklearn.feature_extraction.text import CountVectorizer\n",
    "cv = CountVectorizer(binary=True, ngram_range=(2,3))"
   ]
  },
  {
   "cell_type": "code",
   "execution_count": 16,
   "id": "b006b0d4",
   "metadata": {},
   "outputs": [],
   "source": [
    "X = cv.fit_transform(corpus)"
   ]
  },
  {
   "cell_type": "code",
   "execution_count": 17,
   "id": "51cc64ce",
   "metadata": {},
   "outputs": [
    {
     "data": {
      "text/plain": [
       "{'the indian': 294,\n",
       " 'indian space': 115,\n",
       " 'space research': 264,\n",
       " 'research organisation': 233,\n",
       " 'organisation isro': 207,\n",
       " 'isro sro': 137,\n",
       " 'sro is': 269,\n",
       " 'is india': 127,\n",
       " 'india national': 109,\n",
       " 'national space': 174,\n",
       " 'space agency': 253,\n",
       " 'the indian space': 296,\n",
       " 'indian space research': 116,\n",
       " 'space research organisation': 267,\n",
       " 'research organisation isro': 234,\n",
       " 'organisation isro sro': 208,\n",
       " 'isro sro is': 138,\n",
       " 'sro is india': 270,\n",
       " 'is india national': 128,\n",
       " 'india national space': 110,\n",
       " 'national space agency': 175,\n",
       " 'it serves': 148,\n",
       " 'serves as': 244,\n",
       " 'as the': 27,\n",
       " 'the principal': 301,\n",
       " 'principal research': 218,\n",
       " 'research and': 229,\n",
       " 'and development': 8,\n",
       " 'development arm': 63,\n",
       " 'arm of': 23,\n",
       " 'of the': 196,\n",
       " 'the department': 279,\n",
       " 'department of': 60,\n",
       " 'of space': 194,\n",
       " 'space dos': 260,\n",
       " 'dos overseen': 71,\n",
       " 'overseen by': 211,\n",
       " 'by the': 41,\n",
       " 'the prime': 299,\n",
       " 'prime minister': 215,\n",
       " 'minister of': 164,\n",
       " 'of india': 185,\n",
       " 'india with': 111,\n",
       " 'with the': 331,\n",
       " 'the chairman': 275,\n",
       " 'chairman of': 46,\n",
       " 'of isro': 187,\n",
       " 'isro also': 131,\n",
       " 'also serving': 6,\n",
       " 'serving as': 246,\n",
       " 'the chief': 277,\n",
       " 'chief executive': 48,\n",
       " 'executive of': 78,\n",
       " 'the dos': 285,\n",
       " 'it serves as': 149,\n",
       " 'serves as the': 245,\n",
       " 'as the principal': 30,\n",
       " 'the principal research': 302,\n",
       " 'principal research and': 219,\n",
       " 'research and development': 230,\n",
       " 'and development arm': 9,\n",
       " 'development arm of': 64,\n",
       " 'arm of the': 24,\n",
       " 'of the department': 197,\n",
       " 'the department of': 280,\n",
       " 'department of space': 62,\n",
       " 'of space dos': 195,\n",
       " 'space dos overseen': 261,\n",
       " 'dos overseen by': 72,\n",
       " 'overseen by the': 212,\n",
       " 'by the prime': 43,\n",
       " 'the prime minister': 300,\n",
       " 'prime minister of': 217,\n",
       " 'minister of india': 165,\n",
       " 'of india with': 186,\n",
       " 'india with the': 112,\n",
       " 'with the chairman': 332,\n",
       " 'the chairman of': 276,\n",
       " 'chairman of isro': 47,\n",
       " 'of isro also': 188,\n",
       " 'isro also serving': 132,\n",
       " 'also serving as': 7,\n",
       " 'serving as the': 247,\n",
       " 'as the chief': 28,\n",
       " 'the chief executive': 278,\n",
       " 'chief executive of': 49,\n",
       " 'executive of the': 79,\n",
       " 'of the dos': 198,\n",
       " 'it is': 144,\n",
       " 'is primarily': 129,\n",
       " 'primarily responsible': 213,\n",
       " 'responsible for': 235,\n",
       " 'for space': 82,\n",
       " 'space based': 254,\n",
       " 'based operations': 35,\n",
       " 'operations space': 205,\n",
       " 'space exploration': 262,\n",
       " 'exploration international': 80,\n",
       " 'international space': 121,\n",
       " 'space cooperation': 258,\n",
       " 'cooperation and': 58,\n",
       " 'and the': 18,\n",
       " 'the development': 281,\n",
       " 'development of': 65,\n",
       " 'of related': 190,\n",
       " 'related technologies': 222,\n",
       " 'it is primarily': 145,\n",
       " 'is primarily responsible': 130,\n",
       " 'primarily responsible for': 214,\n",
       " 'responsible for space': 236,\n",
       " 'for space based': 83,\n",
       " 'space based operations': 255,\n",
       " 'based operations space': 36,\n",
       " 'operations space exploration': 206,\n",
       " 'space exploration international': 263,\n",
       " 'exploration international space': 81,\n",
       " 'international space cooperation': 122,\n",
       " 'space cooperation and': 259,\n",
       " 'cooperation and the': 59,\n",
       " 'and the development': 19,\n",
       " 'the development of': 282,\n",
       " 'development of related': 66,\n",
       " 'of related technologies': 191,\n",
       " 'the agency': 273,\n",
       " 'agency maintains': 2,\n",
       " 'maintains constellation': 158,\n",
       " 'constellation of': 56,\n",
       " 'of imaging': 183,\n",
       " 'imaging communication': 97,\n",
       " 'communication and': 54,\n",
       " 'and remote': 14,\n",
       " 'remote sensing': 223,\n",
       " 'sensing satellites': 241,\n",
       " 'the agency maintains': 274,\n",
       " 'agency maintains constellation': 3,\n",
       " 'maintains constellation of': 159,\n",
       " 'constellation of imaging': 57,\n",
       " 'of imaging communication': 184,\n",
       " 'imaging communication and': 98,\n",
       " 'communication and remote': 55,\n",
       " 'and remote sensing': 15,\n",
       " 'remote sensing satellites': 224,\n",
       " 'it operates': 146,\n",
       " 'operates the': 203,\n",
       " 'the gagan': 290,\n",
       " 'gagan and': 87,\n",
       " 'and irnss': 10,\n",
       " 'irnss satellite': 125,\n",
       " 'satellite navigation': 237,\n",
       " 'navigation systems': 176,\n",
       " 'it operates the': 147,\n",
       " 'operates the gagan': 204,\n",
       " 'the gagan and': 291,\n",
       " 'gagan and irnss': 88,\n",
       " 'and irnss satellite': 11,\n",
       " 'irnss satellite navigation': 126,\n",
       " 'satellite navigation systems': 238,\n",
       " 'it has': 141,\n",
       " 'has sent': 93,\n",
       " 'sent three': 242,\n",
       " 'three missions': 309,\n",
       " 'missions to': 168,\n",
       " 'to the': 312,\n",
       " 'the moon': 297,\n",
       " 'moon and': 170,\n",
       " 'and one': 12,\n",
       " 'one mission': 201,\n",
       " 'mission to': 166,\n",
       " 'to mars': 311,\n",
       " 'it has sent': 142,\n",
       " 'has sent three': 94,\n",
       " 'sent three missions': 243,\n",
       " 'three missions to': 310,\n",
       " 'missions to the': 169,\n",
       " 'to the moon': 313,\n",
       " 'the moon and': 298,\n",
       " 'moon and one': 171,\n",
       " 'and one mission': 13,\n",
       " 'one mission to': 202,\n",
       " 'mission to mars': 167,\n",
       " 'formerly known': 85,\n",
       " 'known as': 156,\n",
       " 'indian national': 113,\n",
       " 'national committee': 172,\n",
       " 'committee for': 52,\n",
       " 'research incospar': 231,\n",
       " 'incospar it': 107,\n",
       " 'it was': 150,\n",
       " 'was set': 325,\n",
       " 'set up': 248,\n",
       " 'up in': 316,\n",
       " 'in by': 101,\n",
       " 'by then': 44,\n",
       " 'then prime': 307,\n",
       " 'minister jawaharlal': 162,\n",
       " 'jawaharlal nehru': 154,\n",
       " 'nehru on': 177,\n",
       " 'on the': 199,\n",
       " 'the recommendation': 303,\n",
       " 'recommendation of': 220,\n",
       " 'of scientist': 192,\n",
       " 'scientist vikram': 239,\n",
       " 'vikram sarabhai': 322,\n",
       " 'formerly known as': 86,\n",
       " 'known as the': 157,\n",
       " 'as the indian': 29,\n",
       " 'the indian national': 295,\n",
       " 'indian national committee': 114,\n",
       " 'national committee for': 173,\n",
       " 'committee for space': 53,\n",
       " 'for space research': 84,\n",
       " 'space research incospar': 266,\n",
       " 'research incospar it': 232,\n",
       " 'incospar it was': 108,\n",
       " 'it was set': 152,\n",
       " 'was set up': 326,\n",
       " 'set up in': 249,\n",
       " 'up in by': 317,\n",
       " 'in by then': 102,\n",
       " 'by then prime': 45,\n",
       " 'then prime minister': 308,\n",
       " 'prime minister jawaharlal': 216,\n",
       " 'minister jawaharlal nehru': 163,\n",
       " 'jawaharlal nehru on': 155,\n",
       " 'nehru on the': 178,\n",
       " 'on the recommendation': 200,\n",
       " 'the recommendation of': 304,\n",
       " 'recommendation of scientist': 221,\n",
       " 'of scientist vikram': 193,\n",
       " 'scientist vikram sarabhai': 240,\n",
       " 'was renamed': 323,\n",
       " 'renamed as': 225,\n",
       " 'as isro': 25,\n",
       " 'isro in': 133,\n",
       " 'in and': 99,\n",
       " 'and was': 21,\n",
       " 'was subsumed': 327,\n",
       " 'subsumed into': 271,\n",
       " 'into the': 123,\n",
       " 'of atomic': 181,\n",
       " 'atomic energy': 33,\n",
       " 'energy dae': 75,\n",
       " 'it was renamed': 151,\n",
       " 'was renamed as': 324,\n",
       " 'renamed as isro': 226,\n",
       " 'as isro in': 26,\n",
       " 'isro in and': 134,\n",
       " 'in and was': 100,\n",
       " 'and was subsumed': 22,\n",
       " 'was subsumed into': 328,\n",
       " 'subsumed into the': 272,\n",
       " 'into the department': 124,\n",
       " 'department of atomic': 61,\n",
       " 'of atomic energy': 182,\n",
       " 'atomic energy dae': 34,\n",
       " 'the establishment': 288,\n",
       " 'establishment of': 76,\n",
       " 'isro institutionalised': 135,\n",
       " 'institutionalised space': 117,\n",
       " 'research activities': 227,\n",
       " 'activities in': 0,\n",
       " 'in india': 103,\n",
       " 'the establishment of': 289,\n",
       " 'establishment of isro': 77,\n",
       " 'of isro institutionalised': 189,\n",
       " 'isro institutionalised space': 136,\n",
       " 'institutionalised space research': 118,\n",
       " 'space research activities': 265,\n",
       " 'research activities in': 228,\n",
       " 'activities in india': 1,\n",
       " 'in the': 104,\n",
       " 'the government': 292,\n",
       " 'government set': 89,\n",
       " 'up space': 318,\n",
       " 'space commission': 256,\n",
       " 'commission and': 50,\n",
       " 'dos bringing': 69,\n",
       " 'bringing isro': 39,\n",
       " 'isro under': 139,\n",
       " 'under its': 314,\n",
       " 'its purview': 153,\n",
       " 'in the government': 106,\n",
       " 'the government set': 293,\n",
       " 'government set up': 90,\n",
       " 'set up space': 250,\n",
       " 'up space commission': 319,\n",
       " 'space commission and': 257,\n",
       " 'commission and the': 51,\n",
       " 'and the dos': 20,\n",
       " 'the dos bringing': 286,\n",
       " 'dos bringing isro': 70,\n",
       " 'bringing isro under': 40,\n",
       " 'isro under its': 140,\n",
       " 'under its purview': 315,\n",
       " 'has since': 95,\n",
       " 'since then': 251,\n",
       " 'then been': 305,\n",
       " 'been managed': 37,\n",
       " 'managed by': 160,\n",
       " 'dos which': 73,\n",
       " 'which also': 329,\n",
       " 'also governs': 4,\n",
       " 'governs various': 91,\n",
       " 'various other': 320,\n",
       " 'other institutions': 209,\n",
       " 'institutions in': 119,\n",
       " 'the domain': 283,\n",
       " 'domain of': 67,\n",
       " 'of astronomy': 179,\n",
       " 'astronomy and': 31,\n",
       " 'and space': 16,\n",
       " 'space technology': 268,\n",
       " 'it has since': 143,\n",
       " 'has since then': 96,\n",
       " 'since then been': 252,\n",
       " 'then been managed': 306,\n",
       " 'been managed by': 38,\n",
       " 'managed by the': 161,\n",
       " 'by the dos': 42,\n",
       " 'the dos which': 287,\n",
       " 'dos which also': 74,\n",
       " 'which also governs': 330,\n",
       " 'also governs various': 5,\n",
       " 'governs various other': 92,\n",
       " 'various other institutions': 321,\n",
       " 'other institutions in': 210,\n",
       " 'institutions in the': 120,\n",
       " 'in the domain': 105,\n",
       " 'the domain of': 284,\n",
       " 'domain of astronomy': 68,\n",
       " 'of astronomy and': 180,\n",
       " 'astronomy and space': 32,\n",
       " 'and space technology': 17}"
      ]
     },
     "execution_count": 17,
     "metadata": {},
     "output_type": "execute_result"
    }
   ],
   "source": [
    "cv.vocabulary_"
   ]
  },
  {
   "cell_type": "code",
   "execution_count": 27,
   "id": "4e7f2889",
   "metadata": {},
   "outputs": [],
   "source": [
    "# tf -idf\n",
    "from sklearn.feature_extraction.text import TfidfVectorizer\n",
    "cv = TfidfVectorizer(ngram_range=(1,1), max_features=3)\n",
    "X= cv.fit_transform(corpus)"
   ]
  },
  {
   "cell_type": "code",
   "execution_count": 28,
   "id": "ef7358c1",
   "metadata": {},
   "outputs": [
    {
     "data": {
      "text/plain": [
       "<1x3 sparse matrix of type '<class 'numpy.float64'>'\n",
       "\twith 2 stored elements in Compressed Sparse Row format>"
      ]
     },
     "execution_count": 28,
     "metadata": {},
     "output_type": "execute_result"
    }
   ],
   "source": [
    "X[0]"
   ]
  },
  {
   "cell_type": "code",
   "execution_count": 29,
   "id": "8306b193",
   "metadata": {},
   "outputs": [
    {
     "data": {
      "text/plain": [
       "array([[0.        , 0.9398266 , 0.34165181]])"
      ]
     },
     "execution_count": 29,
     "metadata": {},
     "output_type": "execute_result"
    }
   ],
   "source": [
    "X[0].toarray()"
   ]
  },
  {
   "cell_type": "code",
   "execution_count": null,
   "id": "5304d296",
   "metadata": {},
   "outputs": [],
   "source": []
  }
 ],
 "metadata": {
  "kernelspec": {
   "display_name": "Python 3 (ipykernel)",
   "language": "python",
   "name": "python3"
  },
  "language_info": {
   "codemirror_mode": {
    "name": "ipython",
    "version": 3
   },
   "file_extension": ".py",
   "mimetype": "text/x-python",
   "name": "python",
   "nbconvert_exporter": "python",
   "pygments_lexer": "ipython3",
   "version": "3.11.7"
  }
 },
 "nbformat": 4,
 "nbformat_minor": 5
}
