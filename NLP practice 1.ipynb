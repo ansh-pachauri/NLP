{
 "cells": [
  {
   "cell_type": "code",
   "execution_count": 53,
   "id": "9d6be3ed",
   "metadata": {},
   "outputs": [
    {
     "name": "stdout",
     "output_type": "stream",
     "text": [
      "Requirement already satisfied: nltk in c:\\users\\hpw\\anaconda3\\lib\\site-packages (3.8.1)\n",
      "Requirement already satisfied: click in c:\\users\\hpw\\anaconda3\\lib\\site-packages (from nltk) (8.1.7)\n",
      "Requirement already satisfied: joblib in c:\\users\\hpw\\anaconda3\\lib\\site-packages (from nltk) (1.2.0)\n",
      "Requirement already satisfied: regex>=2021.8.3 in c:\\users\\hpw\\anaconda3\\lib\\site-packages (from nltk) (2023.10.3)\n",
      "Requirement already satisfied: tqdm in c:\\users\\hpw\\anaconda3\\lib\\site-packages (from nltk) (4.65.0)\n",
      "Requirement already satisfied: colorama in c:\\users\\hpw\\anaconda3\\lib\\site-packages (from click->nltk) (0.4.6)\n",
      "Note: you may need to restart the kernel to use updated packages.\n"
     ]
    }
   ],
   "source": [
    "pip install nltk"
   ]
  },
  {
   "cell_type": "code",
   "execution_count": 54,
   "id": "cbeb8288",
   "metadata": {},
   "outputs": [],
   "source": [
    "paragraph=\"\"\"\n",
    "The Indian Space Research Organisation (ISRO /ˈɪsroʊ/)[a] is India's national space agency. It serves as the principal research and development arm of the Department of Space (DoS), overseen by the Prime Minister of India, with the Chairman of ISRO also serving as the chief executive of the DoS. It is primarily responsible for space-based operations, space exploration, international space cooperation and the development of related technologies.[3] The agency maintains a constellation of imaging, communication and remote sensing satellites. It operates the GAGAN and IRNSS satellite navigation systems. It has sent three missions to the Moon and one mission to Mars.\n",
    "\n",
    "Formerly known as the Indian National Committee for Space Research (INCOSPAR), it was set up in 1962 by then-Prime Minister Jawaharlal Nehru on the recommendation of scientist Vikram Sarabhai. It was renamed as ISRO in 1969 and was subsumed into the Department of Atomic Energy (DAE).[4] The establishment of ISRO institutionalised space research activities in India.[5][6] In 1972, the Government set up a Space Commission and the DoS, bringing ISRO under its purview. It has since then been managed by the DoS, which also governs various other institutions in the domain of astronomy and space technology.[7]\n",
    "\"\"\""
   ]
  },
  {
   "cell_type": "code",
   "execution_count": 55,
   "id": "d5df41f7",
   "metadata": {},
   "outputs": [
    {
     "data": {
      "text/plain": [
       "\"\\nThe Indian Space Research Organisation (ISRO /ˈɪsroʊ/)[a] is India's national space agency. It serves as the principal research and development arm of the Department of Space (DoS), overseen by the Prime Minister of India, with the Chairman of ISRO also serving as the chief executive of the DoS. It is primarily responsible for space-based operations, space exploration, international space cooperation and the development of related technologies.[3] The agency maintains a constellation of imaging, communication and remote sensing satellites. It operates the GAGAN and IRNSS satellite navigation systems. It has sent three missions to the Moon and one mission to Mars.\\n\\nFormerly known as the Indian National Committee for Space Research (INCOSPAR), it was set up in 1962 by then-Prime Minister Jawaharlal Nehru on the recommendation of scientist Vikram Sarabhai. It was renamed as ISRO in 1969 and was subsumed into the Department of Atomic Energy (DAE).[4] The establishment of ISRO institutionalised space research activities in India.[5][6] In 1972, the Government set up a Space Commission and the DoS, bringing ISRO under its purview. It has since then been managed by the DoS, which also governs various other institutions in the domain of astronomy and space technology.[7]\\n\""
      ]
     },
     "execution_count": 55,
     "metadata": {},
     "output_type": "execute_result"
    }
   ],
   "source": [
    "paragraph"
   ]
  },
  {
   "cell_type": "code",
   "execution_count": 56,
   "id": "f71cd91e",
   "metadata": {},
   "outputs": [],
   "source": [
    "import nltk\n",
    "from nltk.stem import PorterStemmer\n",
    "from nltk.corpus import stopwords"
   ]
  },
  {
   "cell_type": "code",
   "execution_count": 57,
   "id": "4f0fbfa0",
   "metadata": {},
   "outputs": [
    {
     "name": "stderr",
     "output_type": "stream",
     "text": [
      "[nltk_data] Downloading package punkt to\n",
      "[nltk_data]     C:\\Users\\hpw\\AppData\\Roaming\\nltk_data...\n",
      "[nltk_data]   Package punkt is already up-to-date!\n"
     ]
    }
   ],
   "source": [
    "#tokenization- convert para in to words\n",
    "nltk.download('punkt')\n",
    "sentences = nltk.sent_tokenize(paragraph)"
   ]
  },
  {
   "cell_type": "code",
   "execution_count": 58,
   "id": "c1da6634",
   "metadata": {},
   "outputs": [
    {
     "name": "stdout",
     "output_type": "stream",
     "text": [
      "[\"\\nThe Indian Space Research Organisation (ISRO /ˈɪsroʊ/)[a] is India's national space agency.\", 'It serves as the principal research and development arm of the Department of Space (DoS), overseen by the Prime Minister of India, with the Chairman of ISRO also serving as the chief executive of the DoS.', 'It is primarily responsible for space-based operations, space exploration, international space cooperation and the development of related technologies.', '[3] The agency maintains a constellation of imaging, communication and remote sensing satellites.', 'It operates the GAGAN and IRNSS satellite navigation systems.', 'It has sent three missions to the Moon and one mission to Mars.', 'Formerly known as the Indian National Committee for Space Research (INCOSPAR), it was set up in 1962 by then-Prime Minister Jawaharlal Nehru on the recommendation of scientist Vikram Sarabhai.', 'It was renamed as ISRO in 1969 and was subsumed into the Department of Atomic Energy (DAE).', '[4] The establishment of ISRO institutionalised space research activities in India.', '[5][6] In 1972, the Government set up a Space Commission and the DoS, bringing ISRO under its purview.', 'It has since then been managed by the DoS, which also governs various other institutions in the domain of astronomy and space technology.', '[7]']\n"
     ]
    }
   ],
   "source": [
    "print(sentences)"
   ]
  },
  {
   "cell_type": "code",
   "execution_count": 59,
   "id": "fc7ccc76",
   "metadata": {},
   "outputs": [],
   "source": [
    "stemmer = PorterStemmer()"
   ]
  },
  {
   "cell_type": "code",
   "execution_count": 60,
   "id": "e7aaeb01",
   "metadata": {},
   "outputs": [
    {
     "data": {
      "text/plain": [
       "'astronomy '"
      ]
     },
     "execution_count": 60,
     "metadata": {},
     "output_type": "execute_result"
    }
   ],
   "source": [
    "stemmer.stem(\"astronomy \")"
   ]
  },
  {
   "cell_type": "code",
   "execution_count": 61,
   "id": "e030dbf5",
   "metadata": {},
   "outputs": [],
   "source": [
    "from nltk.stem import WordNetLemmatizer"
   ]
  },
  {
   "cell_type": "code",
   "execution_count": 62,
   "id": "120d1e12",
   "metadata": {},
   "outputs": [],
   "source": [
    "lemmatizer = WordNetLemmatizer()"
   ]
  },
  {
   "cell_type": "code",
   "execution_count": 63,
   "id": "d41c0649",
   "metadata": {},
   "outputs": [
    {
     "name": "stderr",
     "output_type": "stream",
     "text": [
      "[nltk_data] Downloading package wordnet to\n",
      "[nltk_data]     C:\\Users\\hpw\\AppData\\Roaming\\nltk_data...\n",
      "[nltk_data]   Package wordnet is already up-to-date!\n"
     ]
    },
    {
     "data": {
      "text/plain": [
       "True"
      ]
     },
     "execution_count": 63,
     "metadata": {},
     "output_type": "execute_result"
    }
   ],
   "source": [
    "nltk.download('wordnet')\n"
   ]
  },
  {
   "cell_type": "code",
   "execution_count": 64,
   "id": "d4bd27d6",
   "metadata": {},
   "outputs": [
    {
     "data": {
      "text/plain": [
       "'institution'"
      ]
     },
     "execution_count": 64,
     "metadata": {},
     "output_type": "execute_result"
    }
   ],
   "source": [
    "lemmatizer.lemmatize(\"institutions\")"
   ]
  },
  {
   "cell_type": "code",
   "execution_count": 65,
   "id": "bb69835a",
   "metadata": {},
   "outputs": [],
   "source": [
    "import re"
   ]
  },
  {
   "cell_type": "code",
   "execution_count": 66,
   "id": "921964cb",
   "metadata": {},
   "outputs": [],
   "source": [
    "corpus = []\n",
    "for i in range(len(sentences)):\n",
    "    review = re.sub('[^a-zA-Z]', \" \", sentences[i])\n",
    "    review = review.lower()\n",
    "    corpus.append(review)"
   ]
  },
  {
   "cell_type": "code",
   "execution_count": 67,
   "id": "4cb2db94",
   "metadata": {},
   "outputs": [
    {
     "data": {
      "text/plain": [
       "[' the indian space research organisation  isro    sro    a  is india s national space agency ',\n",
       " 'it serves as the principal research and development arm of the department of space  dos   overseen by the prime minister of india  with the chairman of isro also serving as the chief executive of the dos ',\n",
       " 'it is primarily responsible for space based operations  space exploration  international space cooperation and the development of related technologies ',\n",
       " '    the agency maintains a constellation of imaging  communication and remote sensing satellites ',\n",
       " 'it operates the gagan and irnss satellite navigation systems ',\n",
       " 'it has sent three missions to the moon and one mission to mars ',\n",
       " 'formerly known as the indian national committee for space research  incospar   it was set up in      by then prime minister jawaharlal nehru on the recommendation of scientist vikram sarabhai ',\n",
       " 'it was renamed as isro in      and was subsumed into the department of atomic energy  dae  ',\n",
       " '    the establishment of isro institutionalised space research activities in india ',\n",
       " '       in       the government set up a space commission and the dos  bringing isro under its purview ',\n",
       " 'it has since then been managed by the dos  which also governs various other institutions in the domain of astronomy and space technology ',\n",
       " '   ']"
      ]
     },
     "execution_count": 67,
     "metadata": {},
     "output_type": "execute_result"
    }
   ],
   "source": [
    "corpus"
   ]
  },
  {
   "cell_type": "code",
   "execution_count": 68,
   "id": "8f9287af",
   "metadata": {},
   "outputs": [
    {
     "name": "stdout",
     "output_type": "stream",
     "text": [
      "indian\n",
      "space\n",
      "research\n",
      "organis\n",
      "isro\n",
      "sro\n",
      "india\n",
      "nation\n",
      "space\n",
      "agenc\n",
      "serv\n",
      "princip\n",
      "research\n",
      "develop\n",
      "arm\n",
      "depart\n",
      "space\n",
      "do\n",
      "overseen\n",
      "prime\n",
      "minist\n",
      "india\n",
      "chairman\n",
      "isro\n",
      "also\n",
      "serv\n",
      "chief\n",
      "execut\n",
      "do\n",
      "primarili\n",
      "respons\n",
      "space\n",
      "base\n",
      "oper\n",
      "space\n",
      "explor\n",
      "intern\n",
      "space\n",
      "cooper\n",
      "develop\n",
      "relat\n",
      "technolog\n",
      "agenc\n",
      "maintain\n",
      "constel\n",
      "imag\n",
      "commun\n",
      "remot\n",
      "sens\n",
      "satellit\n",
      "oper\n",
      "gagan\n",
      "irnss\n",
      "satellit\n",
      "navig\n",
      "system\n",
      "sent\n",
      "three\n",
      "mission\n",
      "moon\n",
      "one\n",
      "mission\n",
      "mar\n",
      "formerli\n",
      "known\n",
      "indian\n",
      "nation\n",
      "committe\n",
      "space\n",
      "research\n",
      "incospar\n",
      "set\n",
      "prime\n",
      "minist\n",
      "jawaharl\n",
      "nehru\n",
      "recommend\n",
      "scientist\n",
      "vikram\n",
      "sarabhai\n",
      "renam\n",
      "isro\n",
      "subsum\n",
      "depart\n",
      "atom\n",
      "energi\n",
      "dae\n",
      "establish\n",
      "isro\n",
      "institutionalis\n",
      "space\n",
      "research\n",
      "activ\n",
      "india\n",
      "govern\n",
      "set\n",
      "space\n",
      "commiss\n",
      "do\n",
      "bring\n",
      "isro\n",
      "purview\n",
      "sinc\n",
      "manag\n",
      "do\n",
      "also\n",
      "govern\n",
      "variou\n",
      "institut\n",
      "domain\n",
      "astronomi\n",
      "space\n",
      "technolog\n"
     ]
    }
   ],
   "source": [
    "# stemming\n",
    "for i in corpus:\n",
    "    words = nltk.word_tokenize(i)\n",
    "    for word in words:\n",
    "        if word not in set(stopwords.words('english')):\n",
    "            print(stemmer.stem(word))\n"
   ]
  },
  {
   "cell_type": "code",
   "execution_count": 69,
   "id": "5bee4cc4",
   "metadata": {},
   "outputs": [
    {
     "name": "stdout",
     "output_type": "stream",
     "text": [
      "indian\n",
      "space\n",
      "research\n",
      "organisation\n",
      "isro\n",
      "sro\n",
      "india\n",
      "national\n",
      "space\n",
      "agency\n",
      "serf\n",
      "principal\n",
      "research\n",
      "development\n",
      "arm\n",
      "department\n",
      "space\n",
      "do\n",
      "overseen\n",
      "prime\n",
      "minister\n",
      "india\n",
      "chairman\n",
      "isro\n",
      "also\n",
      "serving\n",
      "chief\n",
      "executive\n",
      "do\n",
      "primarily\n",
      "responsible\n",
      "space\n",
      "based\n",
      "operation\n",
      "space\n",
      "exploration\n",
      "international\n",
      "space\n",
      "cooperation\n",
      "development\n",
      "related\n",
      "technology\n",
      "agency\n",
      "maintains\n",
      "constellation\n",
      "imaging\n",
      "communication\n",
      "remote\n",
      "sensing\n",
      "satellite\n",
      "operates\n",
      "gagan\n",
      "irnss\n",
      "satellite\n",
      "navigation\n",
      "system\n",
      "sent\n",
      "three\n",
      "mission\n",
      "moon\n",
      "one\n",
      "mission\n",
      "mar\n",
      "formerly\n",
      "known\n",
      "indian\n",
      "national\n",
      "committee\n",
      "space\n",
      "research\n",
      "incospar\n",
      "set\n",
      "prime\n",
      "minister\n",
      "jawaharlal\n",
      "nehru\n",
      "recommendation\n",
      "scientist\n",
      "vikram\n",
      "sarabhai\n",
      "renamed\n",
      "isro\n",
      "subsumed\n",
      "department\n",
      "atomic\n",
      "energy\n",
      "dae\n",
      "establishment\n",
      "isro\n",
      "institutionalised\n",
      "space\n",
      "research\n",
      "activity\n",
      "india\n",
      "government\n",
      "set\n",
      "space\n",
      "commission\n",
      "do\n",
      "bringing\n",
      "isro\n",
      "purview\n",
      "since\n",
      "managed\n",
      "do\n",
      "also\n",
      "governs\n",
      "various\n",
      "institution\n",
      "domain\n",
      "astronomy\n",
      "space\n",
      "technology\n"
     ]
    }
   ],
   "source": [
    "# lemmitizing\n",
    "for i in corpus:\n",
    "    words = nltk.word_tokenize(i)\n",
    "    for word in words:\n",
    "        if word not in set(stopwords.words('english')):\n",
    "            print(lemmatizer.lemmatize(word))\n"
   ]
  },
  {
   "cell_type": "code",
   "execution_count": 70,
   "id": "0ad484d7",
   "metadata": {},
   "outputs": [],
   "source": [
    "from sklearn.feature_extraction.text import CountVectorizer\n",
    "cv = CountVectorizer()"
   ]
  },
  {
   "cell_type": "code",
   "execution_count": 71,
   "id": "38049815",
   "metadata": {},
   "outputs": [],
   "source": [
    "X = cv.fit_transform(corpus)"
   ]
  },
  {
   "cell_type": "code",
   "execution_count": 72,
   "id": "91d2db11",
   "metadata": {},
   "outputs": [
    {
     "data": {
      "text/plain": [
       "{'the': 94,\n",
       " 'indian': 38,\n",
       " 'space': 88,\n",
       " 'research': 76,\n",
       " 'organisation': 65,\n",
       " 'isro': 45,\n",
       " 'sro': 89,\n",
       " 'is': 44,\n",
       " 'india': 37,\n",
       " 'national': 57,\n",
       " 'agency': 1,\n",
       " 'it': 46,\n",
       " 'serves': 84,\n",
       " 'as': 5,\n",
       " 'principal': 70,\n",
       " 'and': 3,\n",
       " 'development': 21,\n",
       " 'arm': 4,\n",
       " 'of': 60,\n",
       " 'department': 20,\n",
       " 'dos': 23,\n",
       " 'overseen': 67,\n",
       " 'by': 11,\n",
       " 'prime': 69,\n",
       " 'minister': 53,\n",
       " 'with': 104,\n",
       " 'chairman': 12,\n",
       " 'also': 2,\n",
       " 'serving': 85,\n",
       " 'chief': 13,\n",
       " 'executive': 26,\n",
       " 'primarily': 68,\n",
       " 'responsible': 77,\n",
       " 'for': 28,\n",
       " 'based': 8,\n",
       " 'operations': 64,\n",
       " 'exploration': 27,\n",
       " 'international': 41,\n",
       " 'cooperation': 18,\n",
       " 'related': 73,\n",
       " 'technologies': 92,\n",
       " 'maintains': 50,\n",
       " 'constellation': 17,\n",
       " 'imaging': 34,\n",
       " 'communication': 16,\n",
       " 'remote': 74,\n",
       " 'sensing': 82,\n",
       " 'satellites': 80,\n",
       " 'operates': 63,\n",
       " 'gagan': 30,\n",
       " 'irnss': 43,\n",
       " 'satellite': 79,\n",
       " 'navigation': 58,\n",
       " 'systems': 91,\n",
       " 'has': 33,\n",
       " 'sent': 83,\n",
       " 'three': 96,\n",
       " 'missions': 55,\n",
       " 'to': 97,\n",
       " 'moon': 56,\n",
       " 'one': 62,\n",
       " 'mission': 54,\n",
       " 'mars': 52,\n",
       " 'formerly': 29,\n",
       " 'known': 49,\n",
       " 'committee': 15,\n",
       " 'incospar': 36,\n",
       " 'was': 102,\n",
       " 'set': 86,\n",
       " 'up': 99,\n",
       " 'in': 35,\n",
       " 'then': 95,\n",
       " 'jawaharlal': 48,\n",
       " 'nehru': 59,\n",
       " 'on': 61,\n",
       " 'recommendation': 72,\n",
       " 'scientist': 81,\n",
       " 'vikram': 101,\n",
       " 'sarabhai': 78,\n",
       " 'renamed': 75,\n",
       " 'subsumed': 90,\n",
       " 'into': 42,\n",
       " 'atomic': 7,\n",
       " 'energy': 24,\n",
       " 'dae': 19,\n",
       " 'establishment': 25,\n",
       " 'institutionalised': 39,\n",
       " 'activities': 0,\n",
       " 'government': 31,\n",
       " 'commission': 14,\n",
       " 'bringing': 10,\n",
       " 'under': 98,\n",
       " 'its': 47,\n",
       " 'purview': 71,\n",
       " 'since': 87,\n",
       " 'been': 9,\n",
       " 'managed': 51,\n",
       " 'which': 103,\n",
       " 'governs': 32,\n",
       " 'various': 100,\n",
       " 'other': 66,\n",
       " 'institutions': 40,\n",
       " 'domain': 22,\n",
       " 'astronomy': 6,\n",
       " 'technology': 93}"
      ]
     },
     "execution_count": 72,
     "metadata": {},
     "output_type": "execute_result"
    }
   ],
   "source": [
    "cv.vocabulary_"
   ]
  },
  {
   "cell_type": "code",
   "execution_count": 73,
   "id": "bd1a5a02",
   "metadata": {},
   "outputs": [
    {
     "data": {
      "text/plain": [
       "' the indian space research organisation  isro    sro    a  is india s national space agency '"
      ]
     },
     "execution_count": 73,
     "metadata": {},
     "output_type": "execute_result"
    }
   ],
   "source": [
    "corpus[0]"
   ]
  },
  {
   "cell_type": "code",
   "execution_count": 74,
   "id": "e9ee4759",
   "metadata": {},
   "outputs": [
    {
     "data": {
      "text/plain": [
       "array([[0, 1, 0, 0, 0, 0, 0, 0, 0, 0, 0, 0, 0, 0, 0, 0, 0, 0, 0, 0, 0, 0,\n",
       "        0, 0, 0, 0, 0, 0, 0, 0, 0, 0, 0, 0, 0, 0, 0, 1, 1, 0, 0, 0, 0, 0,\n",
       "        1, 1, 0, 0, 0, 0, 0, 0, 0, 0, 0, 0, 0, 1, 0, 0, 0, 0, 0, 0, 0, 1,\n",
       "        0, 0, 0, 0, 0, 0, 0, 0, 0, 0, 1, 0, 0, 0, 0, 0, 0, 0, 0, 0, 0, 0,\n",
       "        2, 1, 0, 0, 0, 0, 1, 0, 0, 0, 0, 0, 0, 0, 0, 0, 0]], dtype=int64)"
      ]
     },
     "execution_count": 74,
     "metadata": {},
     "output_type": "execute_result"
    }
   ],
   "source": [
    "X[0].toarray()"
   ]
  },
  {
   "cell_type": "code",
   "execution_count": null,
   "id": "91569f80",
   "metadata": {},
   "outputs": [],
   "source": []
  }
 ],
 "metadata": {
  "kernelspec": {
   "display_name": "Python 3 (ipykernel)",
   "language": "python",
   "name": "python3"
  },
  "language_info": {
   "codemirror_mode": {
    "name": "ipython",
    "version": 3
   },
   "file_extension": ".py",
   "mimetype": "text/x-python",
   "name": "python",
   "nbconvert_exporter": "python",
   "pygments_lexer": "ipython3",
   "version": "3.11.7"
  }
 },
 "nbformat": 4,
 "nbformat_minor": 5
}
